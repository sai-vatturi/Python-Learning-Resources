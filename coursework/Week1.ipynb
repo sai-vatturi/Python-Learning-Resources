{
 "cells": [
  {
   "cell_type": "markdown",
   "id": "0a0d5dca-753b-47f8-bfb3-814ff4e1ba00",
   "metadata": {},
   "source": [
    "### Question - 1\n",
    "## **Aim** : Write a Python program to display the current date and time."
   ]
  },
  {
   "cell_type": "code",
   "execution_count": 1,
   "id": "89036949-725b-4128-b1e9-d29bdfe02353",
   "metadata": {
    "ExecuteTime": {
     "end_time": "2024-05-31T06:28:36.534840Z",
     "start_time": "2024-05-31T06:28:36.524205Z"
    }
   },
   "outputs": [
    {
     "name": "stdout",
     "output_type": "stream",
     "text": [
      "Current time is:  11:58:36\n",
      "Current date is:  2024-05-31\n",
      "Current date and time:  2024-05-31 11:58:36.523531\n"
     ]
    }
   ],
   "source": [
    "import time\n",
    "from datetime import date\n",
    "from datetime import datetime\n",
    "\n",
    "# print time\n",
    "current_time = time.strftime(\"%H:%M:%S\")\n",
    "print(\"Current time is: \", current_time)\n",
    "\n",
    "# print date\n",
    "current_date = date.today();\n",
    "print(\"Current date is: \", current_date)\n",
    "\n",
    "# print date and time combined\n",
    "now = datetime.now()\n",
    "print(\"Current date and time: \", now)"
   ]
  },
  {
   "cell_type": "markdown",
   "id": "39a35be8-276f-4f4e-9011-7dbc83caf484",
   "metadata": {},
   "source": [
    "### Question - 2\n",
    "    ##  **Aim** : Write a python program to get the Python version you are using\n"
   ]
  },
  {
   "cell_type": "code",
   "execution_count": 2,
   "id": "130af59d-0c95-41f2-984d-60b15226a79b",
   "metadata": {
    "ExecuteTime": {
     "end_time": "2024-05-31T06:28:39.672525Z",
     "start_time": "2024-05-31T06:28:39.669322Z"
    }
   },
   "outputs": [
    {
     "name": "stdout",
     "output_type": "stream",
     "text": [
      "Python version (using sys):  3.9.6 (default, Feb  3 2024, 15:58:27) \n",
      "[Clang 15.0.0 (clang-1500.3.9.4)]\n",
      "Python version (using platform):  3.9.6\n"
     ]
    }
   ],
   "source": [
    "import sys\n",
    "from platform import python_version\n",
    "\n",
    "print(\"Python version (using sys): \", sys.version)\n",
    "print(\"Python version (using platform): \", python_version())"
   ]
  },
  {
   "cell_type": "code",
   "execution_count": 3,
   "id": "8648ff57-5d47-40b0-a885-e4cac73b61a0",
   "metadata": {
    "ExecuteTime": {
     "end_time": "2024-05-31T06:28:39.886597Z",
     "start_time": "2024-05-31T06:28:39.757495Z"
    }
   },
   "outputs": [
    {
     "name": "stdout",
     "output_type": "stream",
     "text": [
      "Python 3.9.6\r\n"
     ]
    }
   ],
   "source": [
    "!python --version"
   ]
  },
  {
   "cell_type": "markdown",
   "id": "bfd7bb09-a49c-406f-88d4-19631c4804f9",
   "metadata": {},
   "source": [
    "### Question - 3\n",
    "##  **Aim** : Write a Python program that accepts an integer (n) and computes the value of n+nn+nnn\n"
   ]
  },
  {
   "cell_type": "code",
   "execution_count": 4,
   "id": "9520dc06-e8e2-431c-ac35-6660eb9e06b8",
   "metadata": {
    "ExecuteTime": {
     "end_time": "2024-05-31T06:28:45.106526Z",
     "start_time": "2024-05-31T06:28:39.929969Z"
    }
   },
   "outputs": [
    {
     "name": "stdout",
     "output_type": "stream",
     "text": [
      "Result is:  615\n"
     ]
    }
   ],
   "source": [
    "n = int(input(\"Enter n value: \"))\n",
    "\n",
    "\n",
    "n1 = int(\"%s\" % (n))\n",
    "n2 = int(\"%s%s\" % (n, n))\n",
    "n3 = int(\"%s%s%s\" % (n, n, n))\n",
    "result = n1 + n2 + n3\n",
    "print(\"Result is: \", result)"
   ]
  },
  {
   "cell_type": "markdown",
   "id": "8ddc61cb-35b7-413d-acde-c75abb999988",
   "metadata": {},
   "source": [
    "### Question - 4\n",
    "## **Aim** : Write a Python program to read and print various types of variables\n"
   ]
  },
  {
   "cell_type": "code",
   "execution_count": 8,
   "id": "568df802-bd49-49c7-a07d-65742111ebb9",
   "metadata": {
    "ExecuteTime": {
     "end_time": "2024-05-31T06:29:06.005442Z",
     "start_time": "2024-05-31T06:29:05.999232Z"
    }
   },
   "outputs": [
    {
     "name": "stdout",
     "output_type": "stream",
     "text": [
      "5 is of type \n",
      " <class 'int'>\n",
      "49.8 is of type \n",
      " <class 'float'>\n",
      "a is of type \n",
      " <class 'str'>\n",
      "True is of type \n",
      " <class 'bool'>\n",
      "Python is of type \n",
      " <class 'str'>\n",
      "[1, 2, 3, 4, 5] is of type \n",
      " <class 'list'>\n",
      "(6, 7, 8, 9, 10) is of type \n",
      " <class 'tuple'>\n",
      "{'b', 'd', 'c', 'a'} is of type \n",
      " <class 'set'>\n",
      "{'1': 'one', '2': 'two'} is of type \n",
      " <class 'dict'>\n"
     ]
    }
   ],
   "source": [
    "int_var = 5\n",
    "float_var = 49.8\n",
    "char_var = 'a'\n",
    "bool_var = True\n",
    "str_var = \"Python\"\n",
    "list_var = [1, 2, 3, 4, 5]\n",
    "tuple_var = (6, 7, 8, 9, 10 )\n",
    "set_var = {'a', 'b', 'c', 'd'}\n",
    "dict_var = {'1' : \"one\",\n",
    "            '2' : \"two\"}\n",
    "\n",
    "print(int_var, \"is of type \\n\", type(int_var))\n",
    "print(float_var, \"is of type \\n\", type(float_var))\n",
    "print(char_var, \"is of type \\n\", type(char_var))\n",
    "print(bool_var, \"is of type \\n\", type(bool_var))\n",
    "print(str_var, \"is of type \\n\", type(str_var))\n",
    "print(list_var, \"is of type \\n\", type(list_var))\n",
    "print(tuple_var, \"is of type \\n\", type(tuple_var))\n",
    "print(set_var, \"is of type \\n\", type(set_var))\n",
    "\n",
    "\n",
    "print(dict_var, \"is of type \\n\", type(dict_var))        "
   ]
  },
  {
   "cell_type": "markdown",
   "id": "419bfb06-e142-4325-86e1-69f69c15374d",
   "metadata": {},
   "source": [
    "### Question - 5\n",
    "##  **Aim** : Write a Python program to print the calender of a given month and year"
   ]
  },
  {
   "cell_type": "code",
   "execution_count": 9,
   "id": "e5d04198-3134-4ad7-ab73-ede4256a9a2c",
   "metadata": {
    "ExecuteTime": {
     "end_time": "2024-05-31T06:29:13.775439Z",
     "start_time": "2024-05-31T06:29:08.869130Z"
    }
   },
   "outputs": [
    {
     "name": "stdout",
     "output_type": "stream",
     "text": [
      "     June 2024\n",
      "Mo Tu We Th Fr Sa Su\n",
      "                1  2\n",
      " 3  4  5  6  7  8  9\n",
      "10 11 12 13 14 15 16\n",
      "17 18 19 20 21 22 23\n",
      "24 25 26 27 28 29 30\n"
     ]
    }
   ],
   "source": [
    "import calendar\n",
    "\n",
    "year = int(input(\"Enter year: \"))\n",
    "month = int(input(\"Enter month: \"))\n",
    "\n",
    "print(calendar.month(year, month))"
   ]
  },
  {
   "cell_type": "code",
   "execution_count": null,
   "outputs": [],
   "source": [],
   "metadata": {
    "collapsed": false
   },
   "id": "c129828d85c66ca8"
  }
 ],
 "metadata": {
  "kernelspec": {
   "display_name": "Python 3 (ipykernel)",
   "language": "python",
   "name": "python3"
  },
  "language_info": {
   "codemirror_mode": {
    "name": "ipython",
    "version": 3
   },
   "file_extension": ".py",
   "mimetype": "text/x-python",
   "name": "python",
   "nbconvert_exporter": "python",
   "pygments_lexer": "ipython3",
   "version": "3.12.3"
  }
 },
 "nbformat": 4,
 "nbformat_minor": 5
}
