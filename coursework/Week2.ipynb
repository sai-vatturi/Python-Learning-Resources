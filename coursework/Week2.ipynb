{
 "cells": [
  {
   "cell_type": "markdown",
   "id": "86763d03-7d18-4478-bb0e-b3e340d97ab3",
   "metadata": {},
   "source": [
    "### Question - 1\n",
    "## **Aim** : Write a Python program to find the square root"
   ]
  },
  {
   "cell_type": "code",
   "execution_count": 32,
   "id": "6a7f8a4c-fb5d-44ba-abf0-3eefcc4be316",
   "metadata": {},
   "outputs": [
    {
     "name": "stdin",
     "output_type": "stream",
     "text": [
      "Enter a number:  1024\n"
     ]
    },
    {
     "name": "stdout",
     "output_type": "stream",
     "text": [
      "The square root of number 1024 is 32.0\n"
     ]
    }
   ],
   "source": [
    "import math\n",
    "\n",
    "n = int(input(\"Enter a number: \"))\n",
    "root = math.sqrt(n)\n",
    "print(\"The square root of number\", n, \"is\", root)"
   ]
  },
  {
   "cell_type": "markdown",
   "source": [],
   "metadata": {
    "collapsed": false
   },
   "id": "f8ccfe2cb3351038"
  },
  {
   "cell_type": "markdown",
   "id": "bfcc65e6-4f73-4bde-b6be-850731967215",
   "metadata": {},
   "source": [
    "### Question - 2\n",
    "## **Aim** : Write a Python program to calculate Area and permiter of Triangle and Circle"
   ]
  },
  {
   "cell_type": "code",
   "execution_count": 31,
   "id": "a42f205c-c109-43f9-bad1-2a977d021f92",
   "metadata": {},
   "outputs": [
    {
     "name": "stdin",
     "output_type": "stream",
     "text": [
      "Enter radius of circle:  8\n"
     ]
    },
    {
     "name": "stdout",
     "output_type": "stream",
     "text": [
      "The area of circle with radius  8  is  201.06192982974676\n",
      "The perimeter of circle with radius  8 is  50.26548245743669\n"
     ]
    },
    {
     "name": "stdin",
     "output_type": "stream",
     "text": [
      "Enter side 1:  3\n",
      "Enter side 2:  4\n",
      "Enter side 3:  5\n"
     ]
    },
    {
     "name": "stdout",
     "output_type": "stream",
     "text": [
      "The area of triangle with sides a = 3 , b = 4 and c =  5  is  6.0\n",
      "The perimeter of triangle with sides a = 3 , b = 4 and c =  5  is  12\n"
     ]
    }
   ],
   "source": [
    "import math\n",
    "\n",
    "# Area and perimeter of circle\n",
    "radius = int(input(\"Enter radius of circle: \"))\n",
    "area = (radius * radius * math.pi)\n",
    "perimeter = (2 * math.pi * radius)\n",
    "print(\"The area of circle with radius \", radius, \" is \", area)\n",
    "print(\"The perimeter of circle with radius \", radius, \"is \", perimeter)\n",
    "\n",
    "# Area and perimeter of triangle\n",
    "a = int(input(\"Enter side 1: \"))\n",
    "b = int(input(\"Enter side 2: \"))\n",
    "c = int(input(\"Enter side 3: \"))\n",
    "s = (a + b + c)/ 2\n",
    "area_triangle = math.sqrt(s * (s - a) * (s - b) * (s - c))\n",
    "perimeter_triangle = a + b + c\n",
    "print(\"The area of triangle with sides a =\", a, \", b =\", b, \"and c = \", c, \" is \", area_triangle)\n",
    "print(\"The perimeter of triangle with sides a =\", a, \", b =\", b, \"and c = \", c, \" is \", perimeter_triangle)\n"
   ]
  },
  {
   "cell_type": "markdown",
   "id": "2abb2be3-01a3-4017-b121-3536833259b9",
   "metadata": {},
   "source": [
    "### Question - 3\n",
    "## **Aim** : Write a Python program to Solve a Quadratic Equation"
   ]
  },
  {
   "cell_type": "code",
   "execution_count": 34,
   "id": "302c5812-8476-4a1e-9fdd-c0e718568195",
   "metadata": {},
   "outputs": [
    {
     "name": "stdout",
     "output_type": "stream",
     "text": [
      "For the quadratic equation ax^2 + bx + c = 0\n"
     ]
    },
    {
     "name": "stdin",
     "output_type": "stream",
     "text": [
      "Enter value of a:  1\n",
      "Enter value of b:  -7\n",
      "Enter value of c:  12\n"
     ]
    },
    {
     "name": "stdout",
     "output_type": "stream",
     "text": [
      "Roots are real and distinct\n",
      "The roots are 4.0 and 3.0\n",
      "The roots of the quadratic equation are:  4.0  and 3.0\n"
     ]
    }
   ],
   "source": [
    "print(\"For the quadratic equation ax^2 + bx + c = 0\")\n",
    "a = int(input(\"Enter value of a: \"))\n",
    "b = int(input(\"Enter value of b: \"))\n",
    "c = int(input(\"Enter value of c: \"))\n",
    "\n",
    "if (a == 0):\n",
    "    print(\"Invalid quadratic equation\")\n",
    "else:\n",
    "    d = b * b - 4 * a * c\n",
    "    d = math.sqrt(abs(d))\n",
    "    if d == 0:\n",
    "        print(\"Roots are real and equal\")\n",
    "        roots = -b / (2 * a)\n",
    "        print(\"The roots are\", roots, \"and\", roots)\n",
    "    elif d < 0:\n",
    "        print(\"Roots are imaginary and distinct\")\n",
    "        rootA = (-b + d )/ (2 * a)\n",
    "        rootB = (-b - d )/ (2 * a)\n",
    "        print(\"The roots are\", rootA, \"and\", rootB)\n",
    "    else:\n",
    "        print(\"Roots are real and distinct\")\n",
    "        rootA = (-b + d )/ (2 * a)\n",
    "        rootB = (-b - d )/ (2 * a)\n",
    "        print(\"The roots are\", rootA, \"and\", rootB)\n",
    "\n",
    "print(\"The roots of the quadratic equation are: \", rootA, \" and\", rootB)"
   ]
  },
  {
   "cell_type": "markdown",
   "id": "2a0a28ec-5920-43ec-ae39-7d412b9d4b0b",
   "metadata": {},
   "source": [
    "### Question - 4\n",
    "## **Aim** : Write a python program to Swap two variables"
   ]
  },
  {
   "cell_type": "code",
   "execution_count": 28,
   "id": "648f5e35-04c7-4640-ba08-b6fd91cd903d",
   "metadata": {},
   "outputs": [
    {
     "name": "stdin",
     "output_type": "stream",
     "text": [
      "Enter first variable a:  7\n",
      "Enter second variable b:  3\n"
     ]
    },
    {
     "name": "stdout",
     "output_type": "stream",
     "text": [
      "Entered variables are a = 7 and b = 3\n",
      "Swapped variables are a = 3 and b = 7\n"
     ]
    }
   ],
   "source": [
    "a = int(input(\"Enter first variable a: \"))\n",
    "b = int(input(\"Enter second variable b: \"))\n",
    "\n",
    "print(\"Entered variables are a =\", a, \"and b =\", b)\n",
    "a = a + b\n",
    "b = a - b\n",
    "a = a - b\n",
    "\n",
    "print(\"Swapped variables are a =\", a, \"and b =\", b)"
   ]
  },
  {
   "cell_type": "markdown",
   "source": [
    "### Question - 5\n",
    "## **Aim** : Write a python program to convert Kilometers to Miles\n"
   ],
   "metadata": {
    "collapsed": false
   },
   "id": "6a05c596d690db69"
  },
  {
   "cell_type": "code",
   "execution_count": 2,
   "outputs": [
    {
     "name": "stdout",
     "output_type": "stream",
     "text": [
      "Entered Kilometers are 100\n",
      "100 kilometers are equivalent to 62.14 miles\n"
     ]
    }
   ],
   "source": [
    "k = int(input(\"Enter Kilometers\"))\n",
    "print(\"Entered Kilometers are\", k)\n",
    "\n",
    "m = k * 0.621371;\n",
    "print(f\"{k} kilometers are equivalent to {m:.2f} miles\")"
   ],
   "metadata": {
    "collapsed": false,
    "ExecuteTime": {
     "end_time": "2024-05-31T07:04:57.011807Z",
     "start_time": "2024-05-31T07:04:54.832940Z"
    }
   },
   "id": "d9a8a97eb9bebcde"
  },
  {
   "cell_type": "markdown",
   "id": "a8e61880-2f24-47ef-b8bf-3efe58cf9a4e",
   "metadata": {},
   "source": [
    "### Question - 5\n",
    "## **Aim** : Write a python program to convert Celcius to Fahrenheit"
   ]
  },
  {
   "cell_type": "code",
   "execution_count": 27,
   "id": "e6242da5-1b2c-4a81-99c9-e3795d2964f9",
   "metadata": {},
   "outputs": [
    {
     "name": "stdin",
     "output_type": "stream",
     "text": [
      "Enter celcius value:  32\n"
     ]
    },
    {
     "name": "stdout",
     "output_type": "stream",
     "text": [
      "Fahrenheit value of  32.0 celcius is 89.6\n"
     ]
    }
   ],
   "source": [
    "celcius = float(input(\"Enter celcius value: \"))\n",
    "fahrenheit = (celcius * 9) / 5 + 32\n",
    "print(\"Fahrenheit value of\", celcius, \"celcius is\", fahrenheit)"
   ]
  }
 ],
 "metadata": {
  "kernelspec": {
   "display_name": "Python 3 (ipykernel)",
   "language": "python",
   "name": "python3"
  },
  "language_info": {
   "codemirror_mode": {
    "name": "ipython",
    "version": 3
   },
   "file_extension": ".py",
   "mimetype": "text/x-python",
   "name": "python",
   "nbconvert_exporter": "python",
   "pygments_lexer": "ipython3",
   "version": "3.12.3"
  }
 },
 "nbformat": 4,
 "nbformat_minor": 5
}
